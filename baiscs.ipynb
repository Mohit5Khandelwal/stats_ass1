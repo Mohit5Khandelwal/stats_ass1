{
 "cells": [
  {
   "cell_type": "markdown",
   "metadata": {},
   "source": [
    "Q1. What is Statistics?\n",
    "\n",
    "Statistics is a science of collecting , organizing and analyzing the data."
   ]
  },
  {
   "cell_type": "markdown",
   "metadata": {},
   "source": [
    "Q2. Define the different types of statistics and give an example of when each type might be used.\n",
    "\n",
    "Their is basically a two types of statistics:-\n",
    "\n",
    "1. Descriptive statistics:-\n",
    "\n",
    "It consists of organizing and summarizing the data \n",
    "\n",
    "Ex- Histogram , PDF \n",
    "\n",
    "2. Inferential statistics:-\n",
    "\n",
    "It consists of using data you have measuredto form conclusions.\n",
    "\n",
    "Ex- Is the age in class 12 students matched with desired age for 12th class students?"
   ]
  },
  {
   "cell_type": "markdown",
   "metadata": {},
   "source": [
    "Q3. What are the different types of data and how do they differ from each other? Provide an example of\n",
    "each type of data.\n",
    "\n",
    "Their is basically a two types of data :-\n",
    "\n",
    "1. Quantitative data:-\n",
    "\n",
    "It basically deals only with numeric data\n",
    "\n",
    "Ex- No of childrens in an family \n",
    "  - No. of bank accounts the person has.\n",
    "\n",
    "2. Qualitative data:-\n",
    "\n",
    "It basically deals only with categorical data\n",
    "\n",
    "Ex- Customer feedback data ( Good , Bad , Better )"
   ]
  },
  {
   "cell_type": "markdown",
   "metadata": {},
   "source": [
    "Q4. Categorise the following datasets with respect to quantitative and qualitative data types:\n",
    "\n",
    "(i) Grading in exam: A+, A, B+, B, C+, C, D, E  -->> Qualitative Data \n",
    "\n",
    "(ii) Colour of mangoes: yellow, green, orange, red -->> Qualitative Data\n",
    "\n",
    "(iii) Height data of a class: [178.9, 179, 179.5, 176, 177.2, 178.3, 175.8,...] --> Quantitative Data\n",
    "\n",
    "(iv) Number of mangoes exported by a farm: [500, 600, 478, 672, ...] -->> Quantitative Data\n",
    "\n"
   ]
  },
  {
   "cell_type": "markdown",
   "metadata": {},
   "source": [
    "Q5. Explain the concept of levels of measurement and give an example of a variable for each level.\n",
    "\n",
    "These are my levels of measurement of data :- \n",
    "\n",
    "1. Discrete Data :-\n",
    "\n",
    "It only contains an whole numeric data.\n",
    "\n",
    "Ex- No. of Bank Accounts \n",
    "\n",
    "2. Continuous Data :-\n",
    "\n",
    "It contains any numeric data values.\n",
    "\n",
    "Ex- Heights of students , Weights , Temperatures ..etc.\n",
    "\n",
    "3. Nominal Data :-\n",
    "\n",
    "It contains the categorical data in which rank is not defined among the data.\n",
    "\n",
    "Ex- Gender ( Male , Female ) , Blood groups ( A+ , B+ )\n",
    "\n",
    "4. Ordinal Data :-\n",
    "\n",
    "It contains the categorical data in which rank is defined among the data.\n",
    "\n",
    "Ex- Customer Feedback data ( Good  , Bad , Better )."
   ]
  },
  {
   "cell_type": "markdown",
   "metadata": {},
   "source": [
    "Q6. Why is it important to understand the level of measurement when analyzing data? Provide an\n",
    "example to illustrate your answer.\n",
    "\n",
    "Understanding the level of measurement when analyzing data is crucial because it determines the types of statistical analyses and operations that can be performed on the data. Different levels of measurement have different properties and limitations, which influence the appropriate statistical techniques to be applied and the meaningful interpretations that can be made. Here's an example to illustrate this:\n",
    "\n",
    "Let's consider a research study examining the effects of different teaching methods on students' academic performance. The study collects data on two variables: teaching method (nominal level) and test scores (ratio level).\n",
    "\n",
    "If the researcher wants to compare the average test scores of students taught using different methods, they need to consider the level of measurement. Since teaching method is a nominal variable, it cannot be directly analyzed using numerical operations like means or variances. Instead, the researcher could use non-parametric statistical tests such as the chi-square test to determine if there is a significant association between teaching method and test scores.\n",
    "\n",
    "On the other hand, test scores are measured at the ratio level, allowing for more advanced statistical analyses. The researcher can calculate descriptive statistics such as the mean, standard deviation, and percentiles to summarize the test scores. Additionally, parametric tests like t-tests or ANOVA can be used to compare the means of test scores between different groups."
   ]
  },
  {
   "cell_type": "markdown",
   "metadata": {},
   "source": [
    "Q7. How nominal data type is different from ordinal data type.\n",
    "\n",
    "It is a types of Qualitative data types in which we are defining only categorical data. In case of nomial data types rank among the data is not present whereas in ordinal data types rank among the data is present."
   ]
  },
  {
   "cell_type": "markdown",
   "metadata": {},
   "source": [
    "Q8. Which type of plot can be used to display data in terms of range?\n",
    "\n",
    "A box plot, also known as a box-and-whisker plot, can be used to display data in terms of range. A box plot provides a visual representation of the distribution of a dataset, including measures of central tendency and variability."
   ]
  },
  {
   "cell_type": "markdown",
   "metadata": {},
   "source": [
    "Q9. Describe the difference between descriptive and inferential statistics. Give an example of each\n",
    "type of statistics and explain how they are used.\n",
    "\n",
    "Descriptive statistics and inferential statistics are two branches of statistics that serve different purposes in analyzing and interpreting data.\n",
    "\n",
    "Descriptive Statistics:\n",
    "Descriptive statistics involves summarizing and describing the main features of a dataset, without making any inferences or drawing conclusions beyond the data itself. It aims to provide a clear and concise summary of the data to understand its characteristics.\n",
    "\n",
    "Example: Let's say you have collected the heights of a sample of individuals. Descriptive statistics would be used to calculate measures such as the mean height, standard deviation, and range of the dataset. These statistics provide a summary of the central tendency, variability, and spread of the heights within the sample.\n",
    "\n",
    "Descriptive statistics can be used to communicate the main characteristics of the data, identify patterns, and gain insights into the dataset. They are often presented in the form of tables, charts, or graphs to provide a visual representation of the data.\n",
    "\n",
    "Inferential Statistics:\n",
    "Inferential statistics involves drawing conclusions or making predictions about a population based on a sample of data. It uses probability theory and statistical techniques to generalize findings from a smaller sample to a larger population.\n",
    "\n",
    "Example: Suppose you want to investigate whether there is a significant difference in the average height between males and females in a population. You collect a sample of individuals and measure their heights. Inferential statistics would be used to perform a hypothesis test, such as a t-test or an analysis of variance (ANOVA), to determine if the observed difference in sample means is statistically significant. This allows you to make inferences about the population as a whole.\n"
   ]
  },
  {
   "cell_type": "markdown",
   "metadata": {},
   "source": [
    "Q10. What are some common measures of central tendency and variability used in statistics? Explain\n",
    "how each measure can be used to describe a dataset.\n",
    "\n",
    "Common measures of central tendency used in statistics are the mean, median, and mode. Measures of variability include the range, variance, and standard deviation. Let's discuss each measure and how they can be used to describe a dataset:\n",
    "\n",
    "1. Mean: The mean is the average value of a dataset and is calculated by summing all the values and dividing by the total number of observations. It provides a measure of the central location of the data. The mean is sensitive to extreme values and is influenced by outliers. It is commonly used when the data is normally distributed or approximately symmetric.\n",
    "\n",
    "2. Median: The median is the middle value in a dataset when it is arranged in ascending or descending order. It divides the dataset into two equal halves, indicating the central value. The median is resistant to outliers and extreme values, making it useful when dealing with skewed data or datasets with potential outliers.\n",
    "\n",
    "3. Mode: The mode represents the most frequently occurring value in a dataset. It is the value with the highest frequency. The mode is useful for categorical or discrete data, as it helps identify the most common category or value. A dataset can have multiple modes (multimodal) or no mode at all.\n",
    "\n",
    "Measures of variability describe the spread or dispersion of the data:\n",
    "\n",
    "1. Range: The range is the simplest measure of variability, calculated by subtracting the minimum value from the maximum value in a dataset. It provides an indication of the total spread of the data. However, it does not consider the distribution of values within the dataset.\n",
    "\n",
    "2. Variance: Variance measures how much the values in a dataset vary from the mean. It is calculated by taking the average of the squared differences between each value and the mean. Variance gives an idea of the average deviation of data points from the mean, but its value is influenced by the units of measurement and can be difficult to interpret.\n",
    "\n",
    "3. Standard Deviation: The standard deviation is the square root of the variance. It provides a measure of the average distance between each data point and the mean. The standard deviation is widely used due to its intuitive interpretation. A larger standard deviation indicates a greater dispersion of values, while a smaller standard deviation indicates a more compact distribution.\n"
   ]
  }
 ],
 "metadata": {
  "language_info": {
   "name": "python"
  },
  "orig_nbformat": 4
 },
 "nbformat": 4,
 "nbformat_minor": 2
}
